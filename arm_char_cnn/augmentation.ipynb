{
 "cells": [
  {
   "cell_type": "code",
   "execution_count": 1,
   "id": "325bf1ee-40c7-4555-8796-5d3aff0d68cb",
   "metadata": {},
   "outputs": [],
   "source": [
    "import numpy as np\n",
    "import os"
   ]
  },
  {
   "cell_type": "code",
   "execution_count": 2,
   "id": "144326b1-ea7b-4c0b-bd5e-30775e5cb06d",
   "metadata": {},
   "outputs": [],
   "source": [
    "from tensorflow.keras.preprocessing.image import ImageDataGenerator, load_img, img_to_array, array_to_img"
   ]
  },
  {
   "cell_type": "code",
   "execution_count": null,
   "id": "0af42890-3c06-4da4-a785-44c3aa631093",
   "metadata": {},
   "outputs": [],
   "source": [
    "def add_noise(img_array, noise_level=25):\n",
    "    noise = np.random.normal(loc=0.0, scale=noise_level, size=img_array.shape)\n",
    "    noisy_img = img_array + noise\n",
    "    noisy_img = np.clip(noisy_img, 0., 255.)\n",
    "    return noisy_img.astype('uint8')\n",
    "\n",
    "input_root = 'dataset2/Train/Train'\n",
    "\n",
    "output_root = 'augmented_dataset'\n",
    "os.makedirs(output_root, exist_ok=True)\n",
    "\n",
    "datagen = ImageDataGenerator(\n",
    "    # rotation_range=15,\n",
    "    # width_shift_range=0.1,\n",
    "    # height_shift_range=0.1,\n",
    "    shear_range=0.1,\n",
    "    zoom_range=0.1,\n",
    "    fill_mode='nearest'\n",
    ")\n",
    "\n",
    "for class_folder in os.listdir(input_root):\n",
    "    class_path = os.path.join(input_root, class_folder)\n",
    "    if not os.path.isdir(class_path):\n",
    "        continue\n",
    "\n",
    "    save_dir = os.path.join(output_root, class_folder)\n",
    "    os.makedirs(save_dir, exist_ok=True)\n",
    "\n",
    "    images = sorted(os.listdir(class_path))[:200]\n",
    "\n",
    "    for image_name in images:\n",
    "        img_path = os.path.join(class_path, image_name)\n",
    "\n",
    "        img = load_img(img_path, color_mode='grayscale')\n",
    "        img_array = img_to_array(img)\n",
    "\n",
    "        noisy_img = add_noise(img_array, noise_level=20)\n",
    "        noisy_img_batch = noisy_img.reshape((1,) + noisy_img.shape)\n",
    "\n",
    "        i = 0\n",
    "        for batch in datagen.flow(noisy_img_batch, batch_size=1, save_to_dir=save_dir, save_prefix='a_', save_format='png'): #a_ augmented\n",
    "            i += 1\n",
    "            if i >= 3:\n",
    "                break\n"
   ]
  },
  {
   "cell_type": "code",
   "execution_count": null,
   "id": "b1ab4de9-84bd-48dc-90a3-a18fff2a8841",
   "metadata": {},
   "outputs": [],
   "source": []
  }
 ],
 "metadata": {
  "kernelspec": {
   "display_name": "Python 3 (ipykernel)",
   "language": "python",
   "name": "python3"
  },
  "language_info": {
   "codemirror_mode": {
    "name": "ipython",
    "version": 3
   },
   "file_extension": ".py",
   "mimetype": "text/x-python",
   "name": "python",
   "nbconvert_exporter": "python",
   "pygments_lexer": "ipython3",
   "version": "3.9.6"
  }
 },
 "nbformat": 4,
 "nbformat_minor": 5
}
