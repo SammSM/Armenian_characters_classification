{
 "cells": [
  {
   "cell_type": "code",
   "execution_count": 9,
   "id": "bf5688a5-3b33-4388-8b2d-b5495e0521e9",
   "metadata": {},
   "outputs": [],
   "source": [
    "import numpy as np\n",
    "import pandas as pd\n",
    "import matplotlib.pyplot as plt\n",
    "import matplotlib.image as mpimg\n",
    "import os\n",
    "import cv2"
   ]
  },
  {
   "cell_type": "code",
   "execution_count": 10,
   "id": "5891c7ee-c0ac-4090-9a90-fb4a5fdfe73e",
   "metadata": {},
   "outputs": [],
   "source": [
    "import pickle"
   ]
  },
  {
   "cell_type": "code",
   "execution_count": 321,
   "id": "dd0b7004-7402-4063-bea8-b652e4083e1f",
   "metadata": {},
   "outputs": [],
   "source": [
    "from tensorflow.keras.models import load_model"
   ]
  },
  {
   "cell_type": "code",
   "execution_count": 11,
   "id": "5a229f14-12fc-48b8-a8a5-f057eda9dad9",
   "metadata": {},
   "outputs": [],
   "source": [
    "from keras import Sequential\n",
    "from keras.layers import Conv2D, MaxPooling2D, Dense, Flatten, BatchNormalization, Dropout, Activation"
   ]
  },
  {
   "cell_type": "code",
   "execution_count": 12,
   "id": "b17eb9b7-5f7f-49c2-808f-ee01663256bd",
   "metadata": {},
   "outputs": [],
   "source": [
    "from keras import regularizers\n",
    "from keras.optimizers import Adam\n",
    "from keras.optimizers import Adadelta"
   ]
  },
  {
   "cell_type": "code",
   "execution_count": 13,
   "id": "ee78b783-2e38-418c-83bd-5f4c1abb6238",
   "metadata": {},
   "outputs": [],
   "source": [
    "from sklearn.model_selection import train_test_split"
   ]
  },
  {
   "cell_type": "code",
   "execution_count": 14,
   "id": "3e9f8288-18a6-4ba0-b00f-8d824030abf3",
   "metadata": {},
   "outputs": [],
   "source": [
    "from keras.utils import to_categorical"
   ]
  },
  {
   "cell_type": "code",
   "execution_count": 15,
   "id": "d3722123-c3bc-4fa8-aad9-0fcac266e0ce",
   "metadata": {},
   "outputs": [],
   "source": [
    "from keras.callbacks import EarlyStopping"
   ]
  },
  {
   "cell_type": "code",
   "execution_count": 36,
   "id": "d1caa4d1-1b07-4baa-9780-fdff78d4521c",
   "metadata": {},
   "outputs": [],
   "source": [
    "from sklearn.utils import shuffle"
   ]
  },
  {
   "cell_type": "markdown",
   "id": "75e7767a-54fd-438b-b43d-510b3a5cbe6a",
   "metadata": {},
   "source": [
    "## Data preprocessing"
   ]
  },
  {
   "cell_type": "code",
   "execution_count": 16,
   "id": "5bf7d19f-bfa0-49b3-87a0-9d2688d0235c",
   "metadata": {},
   "outputs": [],
   "source": [
    "train_images = []\n",
    "val_images = []\n",
    "\n",
    "train_labels = []\n",
    "val_labels = []\n",
    "\n",
    "path = '../dataset/Train/Train'\n",
    "\n",
    "for ltr in os.listdir(path):\n",
    "    i = 0\n",
    "    for img in os.listdir(f'{path}/{ltr}'):\n",
    "        image = mpimg.imread(f'{path}/{ltr}/{img}')\n",
    "        image = image.reshape(64, 64, 1)\n",
    "        if i<150:\n",
    "            val_images.append(image)        \n",
    "            val_labels.append(int(ltr))\n",
    "        else:\n",
    "            train_images.append(image)        \n",
    "            train_labels.append(int(ltr))\n",
    "        i+=1\n",
    "\n",
    "path2 = '../augmented_dataset'\n",
    "\n",
    "for ltr in os.listdir(path2):\n",
    "    i = 0\n",
    "    for img in os.listdir(f'{path2}/{ltr}'):\n",
    "        image = mpimg.imread(f'{path2}/{ltr}/{img}')\n",
    "        image = image.reshape(64, 64, 1)\n",
    "        if i<150:\n",
    "            val_images.append(image)        \n",
    "            val_labels.append(int(ltr))\n",
    "        else:\n",
    "            train_images.append(image)        \n",
    "            train_labels.append(int(ltr))\n",
    "        i+=1"
   ]
  },
  {
   "cell_type": "code",
   "execution_count": 22,
   "id": "ea7e7e20-9172-4b4b-bedf-bb855ed3e012",
   "metadata": {},
   "outputs": [
    {
     "name": "stdout",
     "output_type": "stream",
     "text": [
      "92016 92016\n"
     ]
    }
   ],
   "source": [
    "print(len(train_images), len(train_labels))"
   ]
  },
  {
   "cell_type": "code",
   "execution_count": 24,
   "id": "1bd01c51-6990-4afc-bfd0-0d998470cbd6",
   "metadata": {},
   "outputs": [
    {
     "name": "stdout",
     "output_type": "stream",
     "text": [
      "23400 23400\n"
     ]
    }
   ],
   "source": [
    "print(len(val_images), len(val_labels))"
   ]
  },
  {
   "cell_type": "code",
   "execution_count": 25,
   "id": "e2794edc-8139-41b3-a1fb-ca389eccd3b3",
   "metadata": {},
   "outputs": [],
   "source": [
    "X_train = train_images.copy()\n",
    "y_train = train_labels.copy()\n",
    "\n",
    "X_test = val_images.copy()\n",
    "y_test = val_labels.copy()"
   ]
  },
  {
   "cell_type": "code",
   "execution_count": 27,
   "id": "9eda30bd-ae81-4a20-90c4-e0bd41af2b6f",
   "metadata": {},
   "outputs": [],
   "source": [
    "X_train = np.array(X_train)\n",
    "X_test = np.array(X_test)"
   ]
  },
  {
   "cell_type": "code",
   "execution_count": 30,
   "id": "d8fce827-5b3a-46fc-be0b-a1bdedd9cf96",
   "metadata": {},
   "outputs": [],
   "source": [
    "y_train = to_categorical(y_train, num_classes = 78)\n",
    "y_test = to_categorical(y_test, num_classes = 78)"
   ]
  },
  {
   "cell_type": "code",
   "execution_count": 37,
   "id": "5fdf4f16-c2ed-4e5b-8e4d-fa1f6cd32668",
   "metadata": {},
   "outputs": [],
   "source": [
    "X_train, y_train = shuffle(X_train, y_train, random_state=42)\n",
    "X_test, y_test = shuffle(X_test, y_test, random_state=42)"
   ]
  },
  {
   "cell_type": "markdown",
   "id": "65573265-8d1c-4470-9134-7feee36c7f06",
   "metadata": {},
   "source": [
    "## Model training"
   ]
  },
  {
   "cell_type": "code",
   "execution_count": 185,
   "id": "59ba5a74-46aa-40d7-983e-cf3962914a87",
   "metadata": {},
   "outputs": [
    {
     "name": "stderr",
     "output_type": "stream",
     "text": [
      "c:\\users\\user\\desktop\\python_smart_code\\jupyter\\venv\\lib\\site-packages\\keras\\src\\layers\\convolutional\\base_conv.py:107: UserWarning: Do not pass an `input_shape`/`input_dim` argument to a layer. When using Sequential models, prefer using an `Input(shape)` object as the first layer in the model instead.\n",
      "  super().__init__(activity_regularizer=activity_regularizer, **kwargs)\n"
     ]
    }
   ],
   "source": [
    "model = Sequential()\n",
    "\n",
    "model.add(Conv2D(16, kernel_size = (3, 3), input_shape = (64, 64, 1)))\n",
    "model.add(BatchNormalization())\n",
    "model.add(Activation('relu'))\n",
    "model.add(MaxPooling2D(pool_size = (2, 2)))\n",
    "\n",
    "model.add(Conv2D(32, kernel_size = (3, 3)))\n",
    "model.add(BatchNormalization())\n",
    "model.add(Activation('relu'))\n",
    "model.add(MaxPooling2D(pool_size = (2, 2)))\n",
    "\n",
    "model.add(Conv2D(64, kernel_size = (3, 3)))\n",
    "model.add(BatchNormalization())\n",
    "model.add(Activation('relu'))\n",
    "model.add(MaxPooling2D(pool_size = (2, 2)))\n",
    "\n",
    "model.add(Flatten())\n",
    "\n",
    "model.add(Dense(128, activation = 'relu'))\n",
    "model.add(Dropout(0.1))\n",
    "model.add(Dense(64, activation = 'relu'))\n",
    "model.add(Dropout(0.1))\n",
    "model.add(Dense(32, activation = 'relu'))\n",
    "model.add(Dropout(0.1))\n",
    "model.add(Dense(16, activation = 'relu'))\n",
    "model.add(Dropout(0.1))\n",
    "\n",
    "model.add(Dense(78, activation = 'softmax'))"
   ]
  },
  {
   "cell_type": "code",
   "execution_count": 186,
   "id": "0ac2fffb-0cb0-461f-9a65-7858b51a9397",
   "metadata": {},
   "outputs": [],
   "source": [
    "early_stop = EarlyStopping(monitor = 'val_loss', patience = 3, restore_best_weights = True)"
   ]
  },
  {
   "cell_type": "code",
   "execution_count": 187,
   "id": "bcab66c1-c66f-4738-b794-5efe312605ad",
   "metadata": {},
   "outputs": [],
   "source": [
    "model.compile(optimizer = Adam(learning_rate=0.0005), loss = 'categorical_crossentropy', metrics = ['accuracy'])"
   ]
  },
  {
   "cell_type": "code",
   "execution_count": 188,
   "id": "0ff08fd1-642f-417a-840c-2e5b3dcb68a7",
   "metadata": {
    "scrolled": true
   },
   "outputs": [
    {
     "name": "stdout",
     "output_type": "stream",
     "text": [
      "Epoch 1/20\n",
      "\u001b[1m2876/2876\u001b[0m \u001b[32m━━━━━━━━━━━━━━━━━━━━\u001b[0m\u001b[37m\u001b[0m \u001b[1m81s\u001b[0m 27ms/step - accuracy: 0.1004 - loss: 3.7301 - val_accuracy: 0.5983 - val_loss: 1.4839\n",
      "Epoch 2/20\n",
      "\u001b[1m2876/2876\u001b[0m \u001b[32m━━━━━━━━━━━━━━━━━━━━\u001b[0m\u001b[37m\u001b[0m \u001b[1m78s\u001b[0m 27ms/step - accuracy: 0.4573 - loss: 1.8092 - val_accuracy: 0.7705 - val_loss: 0.8125\n",
      "Epoch 3/20\n",
      "\u001b[1m2876/2876\u001b[0m \u001b[32m━━━━━━━━━━━━━━━━━━━━\u001b[0m\u001b[37m\u001b[0m \u001b[1m78s\u001b[0m 27ms/step - accuracy: 0.5961 - loss: 1.3102 - val_accuracy: 0.8363 - val_loss: 0.6006\n",
      "Epoch 4/20\n",
      "\u001b[1m2876/2876\u001b[0m \u001b[32m━━━━━━━━━━━━━━━━━━━━\u001b[0m\u001b[37m\u001b[0m \u001b[1m80s\u001b[0m 28ms/step - accuracy: 0.6717 - loss: 1.0619 - val_accuracy: 0.8439 - val_loss: 0.5503\n",
      "Epoch 5/20\n",
      "\u001b[1m2876/2876\u001b[0m \u001b[32m━━━━━━━━━━━━━━━━━━━━\u001b[0m\u001b[37m\u001b[0m \u001b[1m80s\u001b[0m 27ms/step - accuracy: 0.7142 - loss: 0.9345 - val_accuracy: 0.8797 - val_loss: 0.4269\n",
      "Epoch 6/20\n",
      "\u001b[1m2876/2876\u001b[0m \u001b[32m━━━━━━━━━━━━━━━━━━━━\u001b[0m\u001b[37m\u001b[0m \u001b[1m78s\u001b[0m 27ms/step - accuracy: 0.7441 - loss: 0.8350 - val_accuracy: 0.8779 - val_loss: 0.4218\n",
      "Epoch 7/20\n",
      "\u001b[1m2876/2876\u001b[0m \u001b[32m━━━━━━━━━━━━━━━━━━━━\u001b[0m\u001b[37m\u001b[0m \u001b[1m78s\u001b[0m 27ms/step - accuracy: 0.7657 - loss: 0.7594 - val_accuracy: 0.9005 - val_loss: 0.3389\n",
      "Epoch 8/20\n",
      "\u001b[1m2876/2876\u001b[0m \u001b[32m━━━━━━━━━━━━━━━━━━━━\u001b[0m\u001b[37m\u001b[0m \u001b[1m79s\u001b[0m 27ms/step - accuracy: 0.7831 - loss: 0.7078 - val_accuracy: 0.8943 - val_loss: 0.3546\n",
      "Epoch 9/20\n",
      "\u001b[1m2876/2876\u001b[0m \u001b[32m━━━━━━━━━━━━━━━━━━━━\u001b[0m\u001b[37m\u001b[0m \u001b[1m78s\u001b[0m 27ms/step - accuracy: 0.7981 - loss: 0.6651 - val_accuracy: 0.9059 - val_loss: 0.3040\n",
      "Epoch 10/20\n",
      "\u001b[1m2876/2876\u001b[0m \u001b[32m━━━━━━━━━━━━━━━━━━━━\u001b[0m\u001b[37m\u001b[0m \u001b[1m78s\u001b[0m 27ms/step - accuracy: 0.8095 - loss: 0.6176 - val_accuracy: 0.9132 - val_loss: 0.2924\n",
      "Epoch 11/20\n",
      "\u001b[1m2876/2876\u001b[0m \u001b[32m━━━━━━━━━━━━━━━━━━━━\u001b[0m\u001b[37m\u001b[0m \u001b[1m78s\u001b[0m 27ms/step - accuracy: 0.8208 - loss: 0.5908 - val_accuracy: 0.9191 - val_loss: 0.2811\n",
      "Epoch 12/20\n",
      "\u001b[1m2876/2876\u001b[0m \u001b[32m━━━━━━━━━━━━━━━━━━━━\u001b[0m\u001b[37m\u001b[0m \u001b[1m79s\u001b[0m 27ms/step - accuracy: 0.8266 - loss: 0.5648 - val_accuracy: 0.9212 - val_loss: 0.2531\n",
      "Epoch 13/20\n",
      "\u001b[1m2876/2876\u001b[0m \u001b[32m━━━━━━━━━━━━━━━━━━━━\u001b[0m\u001b[37m\u001b[0m \u001b[1m79s\u001b[0m 27ms/step - accuracy: 0.8374 - loss: 0.5265 - val_accuracy: 0.9274 - val_loss: 0.2417\n",
      "Epoch 14/20\n",
      "\u001b[1m2876/2876\u001b[0m \u001b[32m━━━━━━━━━━━━━━━━━━━━\u001b[0m\u001b[37m\u001b[0m \u001b[1m79s\u001b[0m 27ms/step - accuracy: 0.8449 - loss: 0.5091 - val_accuracy: 0.9287 - val_loss: 0.2362\n",
      "Epoch 15/20\n",
      "\u001b[1m2876/2876\u001b[0m \u001b[32m━━━━━━━━━━━━━━━━━━━━\u001b[0m\u001b[37m\u001b[0m \u001b[1m79s\u001b[0m 27ms/step - accuracy: 0.8477 - loss: 0.4993 - val_accuracy: 0.9263 - val_loss: 0.2408\n",
      "Epoch 16/20\n",
      "\u001b[1m2876/2876\u001b[0m \u001b[32m━━━━━━━━━━━━━━━━━━━━\u001b[0m\u001b[37m\u001b[0m \u001b[1m79s\u001b[0m 27ms/step - accuracy: 0.8546 - loss: 0.4725 - val_accuracy: 0.9245 - val_loss: 0.2442\n",
      "Epoch 17/20\n",
      "\u001b[1m2876/2876\u001b[0m \u001b[32m━━━━━━━━━━━━━━━━━━━━\u001b[0m\u001b[37m\u001b[0m \u001b[1m79s\u001b[0m 27ms/step - accuracy: 0.8582 - loss: 0.4560 - val_accuracy: 0.9303 - val_loss: 0.2245\n",
      "Epoch 18/20\n",
      "\u001b[1m2876/2876\u001b[0m \u001b[32m━━━━━━━━━━━━━━━━━━━━\u001b[0m\u001b[37m\u001b[0m \u001b[1m79s\u001b[0m 27ms/step - accuracy: 0.8687 - loss: 0.4267 - val_accuracy: 0.9314 - val_loss: 0.2277\n",
      "Epoch 19/20\n",
      "\u001b[1m2876/2876\u001b[0m \u001b[32m━━━━━━━━━━━━━━━━━━━━\u001b[0m\u001b[37m\u001b[0m \u001b[1m79s\u001b[0m 28ms/step - accuracy: 0.8680 - loss: 0.4299 - val_accuracy: 0.9417 - val_loss: 0.1953\n",
      "Epoch 20/20\n",
      "\u001b[1m2876/2876\u001b[0m \u001b[32m━━━━━━━━━━━━━━━━━━━━\u001b[0m\u001b[37m\u001b[0m \u001b[1m79s\u001b[0m 28ms/step - accuracy: 0.8728 - loss: 0.4129 - val_accuracy: 0.9289 - val_loss: 0.2290\n"
     ]
    },
    {
     "data": {
      "text/plain": [
       "<keras.src.callbacks.history.History at 0x22dc39f36d0>"
      ]
     },
     "execution_count": 188,
     "metadata": {},
     "output_type": "execute_result"
    }
   ],
   "source": [
    "model.fit(X_train, y_train, validation_data=(X_test, y_test), epochs=20, batch_size=32, callbacks=[early_stop])"
   ]
  },
  {
   "cell_type": "code",
   "execution_count": 189,
   "id": "9577dd9b-cc92-44bf-89a1-0ccb1105890b",
   "metadata": {},
   "outputs": [
    {
     "data": {
      "text/plain": [
       "[<matplotlib.lines.Line2D at 0x22dc4b3e640>]"
      ]
     },
     "execution_count": 189,
     "metadata": {},
     "output_type": "execute_result"
    },
    {
     "data": {
      "image/png": "[encoded data removed]",
      "text/plain": [
       "<Figure size 640x480 with 1 Axes>"
      ]
     },
     "metadata": {},
     "output_type": "display_data"
    }
   ],
   "source": [
    "plt.plot(model.history.history['loss'])\n",
    "plt.plot(model.history.history['val_loss'])"
   ]
  },
  {
   "cell_type": "markdown",
   "id": "091fa6d2-b082-4f33-b2d0-33d4ce2a8403",
   "metadata": {},
   "source": [
    "## Model saving"
   ]
  },
  {
   "cell_type": "code",
   "execution_count": 352,
   "id": "7b2f4440-7d7b-4113-af67-dcb04c240c04",
   "metadata": {},
   "outputs": [],
   "source": [
    "with open('models/aug_arm_pkl_model.pkl', 'wb') as file:\n",
    "    pickle.dump(model, file)"
   ]
  },
  {
   "cell_type": "code",
   "execution_count": 353,
   "id": "0758254c-f6a6-46f0-8dca-11847af95d4c",
   "metadata": {},
   "outputs": [
    {
     "name": "stderr",
     "output_type": "stream",
     "text": [
      "WARNING:absl:You are saving your model as an HDF5 file via `model.save()` or `keras.saving.save_model(model)`. This file format is considered legacy. We recommend using instead the native Keras format, e.g. `model.save('my_model.keras')` or `keras.saving.save_model(model, 'my_model.keras')`. \n"
     ]
    }
   ],
   "source": [
    "model.save('models/aug_arm_h5_model.h5')"
   ]
  },
  {
   "cell_type": "code",
   "execution_count": 190,
   "id": "8244c401-5cd1-42c1-8fe8-8552ca85d74a",
   "metadata": {},
   "outputs": [],
   "source": [
    "letters_dict = {\n",
    "    0: 'Ա', 1: 'Բ', 2: 'Գ', 3: 'Դ', 4: 'Ե', 5: 'Զ', 6: 'Է', 7: 'Ը', 8: 'Թ', 9: 'Ժ',\n",
    "    10: 'Ի', 11: 'Լ', 12: 'Խ', 13: 'Ծ', 14: 'Կ', 15: 'Հ', 16: 'Ձ', 17: 'Ղ', 18: 'Ճ', 19: 'Մ',\n",
    "    20: 'Յ', 21: 'Ն', 22: 'Շ', 23: 'Ո', 24: 'Ու', 25: 'Չ', 26: 'Պ', 27: 'Ջ', 28: 'Ռ', 29: 'Ս',\n",
    "    30: 'Վ', 31: 'Տ', 32: 'Ր', 33: 'Ց', 34: 'Փ', 35: 'Ք', 36: 'Եվ', 37: 'Օ', 38: 'Ֆ',\n",
    "    39: 'ա', 40: 'բ', 41: 'գ', 42: 'դ', 43: 'ե', 44: 'զ', 45: 'է', 46: 'ը', 47: 'թ', 48: 'ժ',\n",
    "    49: 'ի', 50: 'լ', 51: 'խ', 52: 'ծ', 53: 'կ', 54: 'հ', 55: 'ձ', 56: 'ղ', 57: 'ճ', 58: 'մ',\n",
    "    59: 'յ', 60: 'ն', 61: 'շ', 62: 'ո', 63: 'ու', 64: 'չ', 65: 'պ', 66: 'ջ', 67: 'ռ', 68: 'ս',\n",
    "    69: 'վ', 70: 'տ', 71: 'ր', 72: 'ց', 73: 'փ', 74: 'ք', 75: 'և', 76: 'օ', 77: 'ֆ'\n",
    "}"
   ]
  },
  {
   "cell_type": "code",
   "execution_count": 191,
   "id": "9ed1da2b-8272-4a85-97d8-54547ada214f",
   "metadata": {},
   "outputs": [],
   "source": [
    "def pred_def(p):\n",
    "    return int(np.argmax(p)), letters_dict[np.argmax(p)]"
   ]
  },
  {
   "cell_type": "markdown",
   "id": "1f409fbc-8c5c-4936-9816-fa8bb5f0e075",
   "metadata": {},
   "source": [
    "## Prediciont"
   ]
  },
  {
   "cell_type": "code",
   "execution_count": 350,
   "id": "268943c3-b016-43cc-bbad-12cb5dffbb88",
   "metadata": {},
   "outputs": [
    {
     "name": "stdout",
     "output_type": "stream",
     "text": [
      "\u001b[1m1/1\u001b[0m \u001b[32m━━━━━━━━━━━━━━━━━━━━\u001b[0m\u001b[37m\u001b[0m \u001b[1m0s\u001b[0m 33ms/step\n"
     ]
    },
    {
     "data": {
      "text/plain": [
       "(0, 'Ա')"
      ]
     },
     "execution_count": 350,
     "metadata": {},
     "output_type": "execute_result"
    }
   ],
   "source": [
    "l1 = mpimg.imread('test_images/Letter.jpg')\n",
    "l1 = cv2.cvtColor(l1, cv2.COLOR_RGB2GRAY)\n",
    "l1 = cv2.resize(l1, (64, 64))\n",
    "l1 = cv2.bitwise_not(l1)\n",
    "l1 = l1.reshape(1, 64, 64, 1)\n",
    "\n",
    "pred = arm_h5_model.predict(l1)\n",
    "\n",
    "pred_def(pred)"
   ]
  },
  {
   "cell_type": "code",
   "execution_count": 351,
   "id": "f6d77546-2e8f-48d9-8efc-27c1126a30db",
   "metadata": {},
   "outputs": [
    {
     "data": {
      "text/plain": [
       "<matplotlib.image.AxesImage at 0x22dd6b54a30>"
      ]
     },
     "execution_count": 351,
     "metadata": {},
     "output_type": "execute_result"
    },
    {
     "data": {
      "image/png": "[encoded data removed]",
      "text/plain": [
       "<Figure size 640x480 with 1 Axes>"
      ]
     },
     "metadata": {},
     "output_type": "display_data"
    }
   ],
   "source": [
    "l1 = mpimg.imread('test_images/Letter.jpg')\n",
    "l1 = cv2.cvtColor(l1, cv2.COLOR_RGB2GRAY)\n",
    "l1 = cv2.resize(l1, (64, 64))\n",
    "l1 = cv2.bitwise_not(l1)\n",
    "plt.imshow(l1)"
   ]
  },
  {
   "cell_type": "markdown",
   "id": "039f896d-5799-47c8-8d70-a875d1235870",
   "metadata": {},
   "source": [
    "## Model loading"
   ]
  },
  {
   "cell_type": "code",
   "execution_count": 354,
   "id": "571e381b-bd2b-4ace-adfc-ef051699fff4",
   "metadata": {},
   "outputs": [
    {
     "name": "stderr",
     "output_type": "stream",
     "text": [
      "c:\\users\\user\\desktop\\python_smart_code\\jupyter\\venv\\lib\\site-packages\\keras\\src\\saving\\saving_lib.py:757: UserWarning: Skipping variable loading for optimizer 'rmsprop', because it has 24 variables whereas the saved optimizer has 46 variables. \n",
      "  saveable.load_own_variables(weights_store.get(inner_path))\n"
     ]
    }
   ],
   "source": [
    "with open('models/aug_arm_pkl_model.pkl', 'rb') as file:\n",
    "    aug_arm_pkl_model = pickle.load(file)"
   ]
  },
  {
   "cell_type": "code",
   "execution_count": 355,
   "id": "40bc5ae9-0430-4d27-aa58-edbb0002e1b5",
   "metadata": {},
   "outputs": [
    {
     "name": "stderr",
     "output_type": "stream",
     "text": [
      "WARNING:absl:Compiled the loaded model, but the compiled metrics have yet to be built. `model.compile_metrics` will be empty until you train or evaluate the model.\n"
     ]
    }
   ],
   "source": [
    "aug_arm_h5_model = load_model('models/aug_arm_h5_model.h5')"
   ]
  },
  {
   "cell_type": "code",
   "execution_count": 356,
   "id": "b299532c-6dd4-41fb-aaed-920d33da2586",
   "metadata": {},
   "outputs": [],
   "source": [
    "!pip freeze > requirements.txt"
   ]
  },
  {
   "cell_type": "code",
   "execution_count": null,
   "id": "1e787049-5fd2-4630-ad0e-3995223afb55",
   "metadata": {},
   "outputs": [],
   "source": []
  }
 ],
 "metadata": {
  "kernelspec": {
   "display_name": "Python 3 (ipykernel)",
   "language": "python",
   "name": "python3"
  },
  "language_info": {
   "codemirror_mode": {
    "name": "ipython",
    "version": 3
   },
   "file_extension": ".py",
   "mimetype": "text/x-python",
   "name": "python",
   "nbconvert_exporter": "python",
   "pygments_lexer": "ipython3",
   "version": "3.9.6"
  }
 },
 "nbformat": 4,
 "nbformat_minor": 5
}
