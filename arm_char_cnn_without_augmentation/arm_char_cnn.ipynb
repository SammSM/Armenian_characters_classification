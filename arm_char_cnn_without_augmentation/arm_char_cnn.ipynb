{
 "cells": [
  {
   "cell_type": "code",
   "execution_count": 1,
   "id": "bfafc04d-be26-4cb0-8925-81c8d5ed3024",
   "metadata": {},
   "outputs": [],
   "source": [
    "import numpy as np\n",
    "import pandas as pd\n",
    "import seaborn as sns\n",
    "import matplotlib.pyplot as plt\n",
    "import matplotlib.image as mpimg\n",
    "import os\n",
    "import cv2"
   ]
  },
  {
   "cell_type": "code",
   "execution_count": 2,
   "id": "d89a5f3d-8c7c-43da-bc11-4c01eb89aac7",
   "metadata": {},
   "outputs": [],
   "source": [
    "from sklearn.model_selection import train_test_split"
   ]
  },
  {
   "cell_type": "code",
   "execution_count": 3,
   "id": "4e417a93-8dc5-4526-beef-0e647369c961",
   "metadata": {},
   "outputs": [],
   "source": [
    "from keras import Sequential\n",
    "from keras.layers import Conv2D, MaxPooling2D, Flatten, Dense"
   ]
  },
  {
   "cell_type": "markdown",
   "id": "0e107988-19d0-4dd6-9732-e32eea883da9",
   "metadata": {},
   "source": [
    "## Data processing"
   ]
  },
  {
   "cell_type": "code",
   "execution_count": 7,
   "id": "dc1a8e72-aec3-45c8-b47a-59223d11172e",
   "metadata": {},
   "outputs": [],
   "source": [
    "letter_folder = os.listdir('../dataset/Train/Train/')"
   ]
  },
  {
   "cell_type": "code",
   "execution_count": 11,
   "id": "f5ac0761-f35c-4c3e-80ed-95664b0ca4ab",
   "metadata": {},
   "outputs": [],
   "source": [
    "X_train = []\n",
    "y_train = []\n",
    "\n",
    "path = '../dataset/Train/Train/'\n",
    "\n",
    "for i in letter_folder:\n",
    "    for j in os.listdir(f'{path}/{i}'):\n",
    "        image = mpimg.imread(f'{path}/{i}/{j}')\n",
    "        image = image.reshape(64, 64, 1)\n",
    "        X_train.append(image)\n",
    "        y_train.append(int(i))\n",
    "X_train = np.array(X_train)\n"
   ]
  },
  {
   "cell_type": "code",
   "execution_count": 12,
   "id": "6d32c00b-8573-45c6-b39b-c4ef3c8342c6",
   "metadata": {},
   "outputs": [],
   "source": [
    "y_train = np.array(y_train)"
   ]
  },
  {
   "cell_type": "code",
   "execution_count": 13,
   "id": "c3446249-785b-42e8-b0af-01d0f63c02bc",
   "metadata": {},
   "outputs": [
    {
     "data": {
      "text/plain": [
       "(70060, 64, 64, 1)"
      ]
     },
     "execution_count": 13,
     "metadata": {},
     "output_type": "execute_result"
    }
   ],
   "source": [
    "X_train.shape"
   ]
  },
  {
   "cell_type": "code",
   "execution_count": 14,
   "id": "40bb0c6c-ac2a-4fd8-b971-4912fea71270",
   "metadata": {},
   "outputs": [],
   "source": [
    "y_train = pd.get_dummies(y_train).astype(int).values"
   ]
  },
  {
   "cell_type": "code",
   "execution_count": 15,
   "id": "d37d8a9e-b562-4128-96b2-4d9a8f6c6f91",
   "metadata": {},
   "outputs": [
    {
     "data": {
      "text/plain": [
       "(70060, 78)"
      ]
     },
     "execution_count": 15,
     "metadata": {},
     "output_type": "execute_result"
    }
   ],
   "source": [
    "y_train.shape"
   ]
  },
  {
   "cell_type": "code",
   "execution_count": 16,
   "id": "bd9e3855-c420-4aaa-994a-87c7620b676d",
   "metadata": {},
   "outputs": [],
   "source": [
    "X_train_, X_val, y_train_, y_val = train_test_split(X_train, y_train, test_size=0.2, random_state=101)"
   ]
  },
  {
   "cell_type": "markdown",
   "id": "90fcf399-3e01-48a8-b58c-66a9908c385e",
   "metadata": {},
   "source": [
    "## Model training"
   ]
  },
  {
   "cell_type": "code",
   "execution_count": 17,
   "id": "af49a2b0-9896-42cd-b0fd-6bf5c57329b4",
   "metadata": {},
   "outputs": [],
   "source": [
    "model = Sequential()\n",
    "\n",
    "\n",
    "model.add(Conv2D(filters=32, kernel_size=(3, 3), activation='relu', input_shape = (64, 64, 1)))\n",
    "model.add(MaxPooling2D(pool_size=(2, 2)))\n",
    "\n",
    "model.add(Conv2D(filters=32, kernel_size=(3, 3), activation='relu'))\n",
    "model.add(MaxPooling2D(pool_size=(2, 2)))\n",
    "\n",
    "model.add(Flatten())\n",
    "\n",
    "model.add(Dense(64, activation='relu'))\n",
    "model.add(Dense(32, activation='relu'))\n",
    "model.add(Dense(16, activation='relu'))\n",
    "\n",
    "\n",
    "model.add(Dense(78, activation='softmax'))"
   ]
  },
  {
   "cell_type": "code",
   "execution_count": 18,
   "id": "4ccbf78d-f735-4f04-9fc9-b7d8b072fd59",
   "metadata": {},
   "outputs": [],
   "source": [
    "model.compile(optimizer='adamW', loss='categorical_crossentropy', metrics=['accuracy'])"
   ]
  },
  {
   "cell_type": "code",
   "execution_count": 19,
   "id": "2bba3957-0e94-4f31-92f0-707582bece46",
   "metadata": {},
   "outputs": [
    {
     "name": "stdout",
     "output_type": "stream",
     "text": [
      "Epoch 1/10\n",
      "\u001b[1m1752/1752\u001b[0m \u001b[32m━━━━━━━━━━━━━━━━━━━━\u001b[0m\u001b[37m\u001b[0m \u001b[1m31s\u001b[0m 17ms/step - accuracy: 0.1788 - loss: 3.3377 - val_accuracy: 0.5420 - val_loss: 1.6127\n",
      "Epoch 2/10\n",
      "\u001b[1m1752/1752\u001b[0m \u001b[32m━━━━━━━━━━━━━━━━━━━━\u001b[0m\u001b[37m\u001b[0m \u001b[1m30s\u001b[0m 17ms/step - accuracy: 0.6022 - loss: 1.3962 - val_accuracy: 0.6434 - val_loss: 1.2335\n",
      "Epoch 3/10\n",
      "\u001b[1m1752/1752\u001b[0m \u001b[32m━━━━━━━━━━━━━━━━━━━━\u001b[0m\u001b[37m\u001b[0m \u001b[1m34s\u001b[0m 19ms/step - accuracy: 0.7033 - loss: 1.0127 - val_accuracy: 0.7244 - val_loss: 0.9790\n",
      "Epoch 4/10\n",
      "\u001b[1m1752/1752\u001b[0m \u001b[32m━━━━━━━━━━━━━━━━━━━━\u001b[0m\u001b[37m\u001b[0m \u001b[1m34s\u001b[0m 19ms/step - accuracy: 0.7649 - loss: 0.7878 - val_accuracy: 0.7635 - val_loss: 0.8401\n",
      "Epoch 5/10\n",
      "\u001b[1m1752/1752\u001b[0m \u001b[32m━━━━━━━━━━━━━━━━━━━━\u001b[0m\u001b[37m\u001b[0m \u001b[1m34s\u001b[0m 19ms/step - accuracy: 0.8025 - loss: 0.6492 - val_accuracy: 0.7726 - val_loss: 0.8010\n",
      "Epoch 6/10\n",
      "\u001b[1m1752/1752\u001b[0m \u001b[32m━━━━━━━━━━━━━━━━━━━━\u001b[0m\u001b[37m\u001b[0m \u001b[1m37s\u001b[0m 21ms/step - accuracy: 0.8309 - loss: 0.5508 - val_accuracy: 0.7763 - val_loss: 0.7875\n",
      "Epoch 7/10\n",
      "\u001b[1m1752/1752\u001b[0m \u001b[32m━━━━━━━━━━━━━━━━━━━━\u001b[0m\u001b[37m\u001b[0m \u001b[1m35s\u001b[0m 20ms/step - accuracy: 0.8505 - loss: 0.4810 - val_accuracy: 0.8048 - val_loss: 0.7023\n",
      "Epoch 8/10\n",
      "\u001b[1m1752/1752\u001b[0m \u001b[32m━━━━━━━━━━━━━━━━━━━━\u001b[0m\u001b[37m\u001b[0m \u001b[1m35s\u001b[0m 20ms/step - accuracy: 0.8697 - loss: 0.4131 - val_accuracy: 0.7986 - val_loss: 0.7449\n",
      "Epoch 9/10\n",
      "\u001b[1m1752/1752\u001b[0m \u001b[32m━━━━━━━━━━━━━━━━━━━━\u001b[0m\u001b[37m\u001b[0m \u001b[1m36s\u001b[0m 20ms/step - accuracy: 0.8821 - loss: 0.3639 - val_accuracy: 0.8080 - val_loss: 0.7200\n",
      "Epoch 10/10\n",
      "\u001b[1m1752/1752\u001b[0m \u001b[32m━━━━━━━━━━━━━━━━━━━━\u001b[0m\u001b[37m\u001b[0m \u001b[1m35s\u001b[0m 20ms/step - accuracy: 0.8951 - loss: 0.3238 - val_accuracy: 0.8146 - val_loss: 0.6961\n"
     ]
    },
    {
     "data": {
      "text/plain": [
       "<keras.src.callbacks.history.History at 0x200359c3580>"
      ]
     },
     "execution_count": 19,
     "metadata": {},
     "output_type": "execute_result"
    }
   ],
   "source": [
    "model.fit(X_train_, y_train_, validation_data=(X_val, y_val), epochs=10)"
   ]
  },
  {
   "cell_type": "markdown",
   "id": "549a9cff-17e9-47ac-875c-a835a4add14e",
   "metadata": {},
   "source": [
    "## Model saving"
   ]
  },
  {
   "cell_type": "code",
   "execution_count": 32,
   "id": "5d4f171e-5069-4bfc-9bd9-8388c81426c9",
   "metadata": {},
   "outputs": [],
   "source": [
    "import pickle"
   ]
  },
  {
   "cell_type": "code",
   "execution_count": 27,
   "id": "0a4f05ab-2d66-45b2-9216-45071dec047e",
   "metadata": {},
   "outputs": [],
   "source": [
    "from tensorflow.keras.models import load_model"
   ]
  },
  {
   "cell_type": "code",
   "execution_count": 42,
   "id": "46b9a6e3-e783-407d-9004-e95bdf50daa7",
   "metadata": {},
   "outputs": [],
   "source": [
    "with open('models/arm_pkl_model.pkl', 'wb') as file:\n",
    "    pickle.dump(model, file)"
   ]
  },
  {
   "cell_type": "code",
   "execution_count": 43,
   "id": "c626c623-097d-4958-b4d9-51b5e9a76de7",
   "metadata": {},
   "outputs": [
    {
     "name": "stderr",
     "output_type": "stream",
     "text": [
      "WARNING:absl:You are saving your model as an HDF5 file via `model.save()` or `keras.saving.save_model(model)`. This file format is considered legacy. We recommend using instead the native Keras format, e.g. `model.save('my_model.keras')` or `keras.saving.save_model(model, 'my_model.keras')`. \n"
     ]
    }
   ],
   "source": [
    "model.save('models/arm_h5_model.h5')"
   ]
  },
  {
   "cell_type": "code",
   "execution_count": 20,
   "id": "8486a588-9471-4bb9-afac-b3af806f871d",
   "metadata": {},
   "outputs": [],
   "source": [
    "letters_dict = {\n",
    "    0: 'Ա', 1: 'Բ', 2: 'Գ', 3: 'Դ', 4: 'Ե', 5: 'Զ', 6: 'Է', 7: 'Ը', 8: 'Թ', 9: 'Ժ',\n",
    "    10: 'Ի', 11: 'Լ', 12: 'Խ', 13: 'Ծ', 14: 'Կ', 15: 'Հ', 16: 'Ձ', 17: 'Ղ', 18: 'Ճ', 19: 'Մ',\n",
    "    20: 'Յ', 21: 'Ն', 22: 'Շ', 23: 'Ո', 24: 'Ու', 25: 'Չ', 26: 'Պ', 27: 'Ջ', 28: 'Ռ', 29: 'Ս',\n",
    "    30: 'Վ', 31: 'Տ', 32: 'Ր', 33: 'Ց', 34: 'Փ', 35: 'Ք', 36: 'Եվ', 37: 'Օ', 38: 'Ֆ',\n",
    "    39: 'ա', 40: 'բ', 41: 'գ', 42: 'դ', 43: 'ե', 44: 'զ', 45: 'է', 46: 'ը', 47: 'թ', 48: 'ժ',\n",
    "    49: 'ի', 50: 'լ', 51: 'խ', 52: 'ծ', 53: 'կ', 54: 'հ', 55: 'ձ', 56: 'ղ', 57: 'ճ', 58: 'մ',\n",
    "    59: 'յ', 60: 'ն', 61: 'շ', 62: 'ո', 63: 'ու', 64: 'չ', 65: 'պ', 66: 'ջ', 67: 'ռ', 68: 'ս',\n",
    "    69: 'վ', 70: 'տ', 71: 'ր', 72: 'ց', 73: 'փ', 74: 'ք', 75: 'և', 76: 'օ', 77: 'ֆ'\n",
    "}"
   ]
  },
  {
   "cell_type": "markdown",
   "id": "d0dc2200-4192-4255-a210-651b9cf316ae",
   "metadata": {},
   "source": [
    "## Model prediction"
   ]
  },
  {
   "cell_type": "code",
   "execution_count": 34,
   "id": "cbec213f-47e5-4402-aada-cb2b80e8a3ab",
   "metadata": {},
   "outputs": [
    {
     "name": "stdout",
     "output_type": "stream",
     "text": [
      "(64, 64)\n",
      "\u001b[1m1/1\u001b[0m \u001b[32m━━━━━━━━━━━━━━━━━━━━\u001b[0m\u001b[37m\u001b[0m \u001b[1m0s\u001b[0m 78ms/step\n"
     ]
    }
   ],
   "source": [
    "new_test_image = mpimg.imread('test_images/uppercase_a.jpg')\n",
    "\n",
    "new_test_image_gray = cv2.cvtColor(new_test_image, cv2.COLOR_RGB2GRAY)\n",
    "\n",
    "new_test_image_resized = cv2.resize(new_test_image_gray, (64, 64))\n",
    "\n",
    "new_test_image_inverted = cv2.bitwise_not(new_test_image_resized)\n",
    "\n",
    "image = new_test_image_inverted.reshape(1, 64, 64, 1)\n",
    "\n",
    "print(new_test_image_resized.shape)\n",
    "\n",
    "prediction = np.argmax(arm_char_model.predict(image))"
   ]
  },
  {
   "cell_type": "code",
   "execution_count": 35,
   "id": "1233dd0a-4575-4aa6-9fcb-014b13ac69b1",
   "metadata": {},
   "outputs": [
    {
     "name": "stdout",
     "output_type": "stream",
     "text": [
      "0 Ա\n"
     ]
    }
   ],
   "source": [
    "print(prediction, letters_dict[prediction])"
   ]
  },
  {
   "cell_type": "code",
   "execution_count": 36,
   "id": "995fd846-1389-42b0-89c2-67df7e022f0c",
   "metadata": {},
   "outputs": [
    {
     "data": {
      "text/plain": [
       "<matplotlib.image.AxesImage at 0x2002b371250>"
      ]
     },
     "execution_count": 36,
     "metadata": {},
     "output_type": "execute_result"
    },
    {
     "data": {
      "image/png": "[encoded data removed]",
      "text/plain": [
       "<Figure size 640x480 with 1 Axes>"
      ]
     },
     "metadata": {},
     "output_type": "display_data"
    }
   ],
   "source": [
    "plt.imshow(new_test_image_inverted.reshape(64, 64, 1))"
   ]
  },
  {
   "cell_type": "code",
   "execution_count": 37,
   "id": "39bf382c-f5f0-4b81-a5e6-54bd487a9171",
   "metadata": {},
   "outputs": [
    {
     "name": "stdout",
     "output_type": "stream",
     "text": [
      "(64, 64)\n",
      "\u001b[1m1/1\u001b[0m \u001b[32m━━━━━━━━━━━━━━━━━━━━\u001b[0m\u001b[37m\u001b[0m \u001b[1m0s\u001b[0m 30ms/step\n"
     ]
    }
   ],
   "source": [
    "new_test_image = mpimg.imread('test_images/lowercase_a.jpg')\n",
    "\n",
    "new_test_image_gray = cv2.cvtColor(new_test_image, cv2.COLOR_RGB2GRAY)\n",
    "\n",
    "new_test_image_resized = cv2.resize(new_test_image_gray, (64, 64))\n",
    "\n",
    "new_test_image_inverted = cv2.bitwise_not(new_test_image_resized)\n",
    "\n",
    "image = new_test_image_inverted.reshape(1, 64, 64, 1)\n",
    "\n",
    "print(new_test_image_resized.shape)\n",
    "\n",
    "prediction = np.argmax(arm_char_model.predict(image))"
   ]
  },
  {
   "cell_type": "code",
   "execution_count": 38,
   "id": "6c80d0f0-da0d-407a-80b7-b9dc7e299d39",
   "metadata": {},
   "outputs": [
    {
     "name": "stdout",
     "output_type": "stream",
     "text": [
      "39 ա\n"
     ]
    }
   ],
   "source": [
    "print(prediction, letters_dict[prediction])"
   ]
  },
  {
   "cell_type": "code",
   "execution_count": 39,
   "id": "9608f5fb-d14e-4e4b-892a-e96618443f0c",
   "metadata": {},
   "outputs": [
    {
     "data": {
      "text/plain": [
       "<matplotlib.image.AxesImage at 0x200c3cfc430>"
      ]
     },
     "execution_count": 39,
     "metadata": {},
     "output_type": "execute_result"
    },
    {
     "data": {
      "image/png": "[encoded data removed]",
      "text/plain": [
       "<Figure size 640x480 with 1 Axes>"
      ]
     },
     "metadata": {},
     "output_type": "display_data"
    }
   ],
   "source": [
    "plt.imshow(new_test_image_inverted.reshape(64, 64, 1))"
   ]
  },
  {
   "cell_type": "markdown",
   "id": "4b3da4e5-50df-4e78-85c4-8acb26ac736c",
   "metadata": {},
   "source": [
    "## Model loading"
   ]
  },
  {
   "cell_type": "code",
   "execution_count": 44,
   "id": "40488c08-5b89-41eb-82e4-f6eb08c58da8",
   "metadata": {},
   "outputs": [],
   "source": [
    "with open('models/arm_pkl_model.pkl', 'rb') as file:\n",
    "    arm_pkl_model = pickle.load(file)"
   ]
  },
  {
   "cell_type": "code",
   "execution_count": 45,
   "id": "dd4ca772-1399-4687-a6a7-15262e0d4d94",
   "metadata": {},
   "outputs": [
    {
     "name": "stderr",
     "output_type": "stream",
     "text": [
      "WARNING:absl:Compiled the loaded model, but the compiled metrics have yet to be built. `model.compile_metrics` will be empty until you train or evaluate the model.\n"
     ]
    }
   ],
   "source": [
    "arm_h5_model = load_model('models/arm_h5_model.h5')"
   ]
  },
  {
   "cell_type": "code",
   "execution_count": 56,
   "id": "8ee19e5e-11c4-4ae8-b6c1-b65e291e0c50",
   "metadata": {},
   "outputs": [],
   "source": [
    "!pip freeze > requirements.txt"
   ]
  },
  {
   "cell_type": "code",
   "execution_count": null,
   "id": "6a0c449f-eb66-4231-9f1f-912d31f298dc",
   "metadata": {},
   "outputs": [],
   "source": []
  }
 ],
 "metadata": {
  "kernelspec": {
   "display_name": "Python 3 (ipykernel)",
   "language": "python",
   "name": "python3"
  },
  "language_info": {
   "codemirror_mode": {
    "name": "ipython",
    "version": 3
   },
   "file_extension": ".py",
   "mimetype": "text/x-python",
   "name": "python",
   "nbconvert_exporter": "python",
   "pygments_lexer": "ipython3",
   "version": "3.9.6"
  }
 },
 "nbformat": 4,
 "nbformat_minor": 5
}
